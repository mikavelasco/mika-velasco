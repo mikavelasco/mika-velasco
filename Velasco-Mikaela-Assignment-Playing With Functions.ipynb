{
 "cells": [
  {
   "cell_type": "markdown",
   "metadata": {},
   "source": [
    "## Playing With Functions"
   ]
  },
  {
   "cell_type": "markdown",
   "metadata": {},
   "source": [
    "These exercises are designed to strengthen your grasp on basic programming concepts. Read what is required of you carefully. For example, instructions to **return** values are not the same as those of **printing**.\n",
    "\n",
    "Make sure that cells are in **script mode** (not **interactive mode**).\n"
   ]
  },
  {
   "cell_type": "markdown",
   "metadata": {},
   "source": [
    "# 1\n",
    "### 1 point\n",
    "\n",
    "Write a function that takes the circumference of a circle as a parameter and **returns** the area of that circle.\n",
    "\n",
    "Note: Assume the value of pi is 3.1416"
   ]
  },
  {
   "cell_type": "code",
   "execution_count": 34,
   "metadata": {},
   "outputs": [],
   "source": [
    "pi = 3.1416\n",
    "\n",
    "def area_of_circle (circumference):\n",
    "    area_of_circle = circumference**2 / (4*pi)\n",
    "    return area_of_circle"
   ]
  },
  {
   "cell_type": "code",
   "execution_count": 35,
   "metadata": {},
   "outputs": [
    {
     "name": "stdout",
     "output_type": "stream",
     "text": [
      "0.31830914183855363\n"
     ]
    }
   ],
   "source": [
    "print(area_of_circle(2))"
   ]
  },
  {
   "cell_type": "markdown",
   "metadata": {},
   "source": [
    "# 2\n",
    "### 2 points\n",
    "\n",
    "Write a function that takes a 5-character string as a parameter and **returns** the string in reverse order.\n",
    "\n",
    "e.g. reverseString(\"Hello\") -> \"olleH\""
   ]
  },
  {
   "cell_type": "code",
   "execution_count": 36,
   "metadata": {},
   "outputs": [],
   "source": [
    "def reverseString (str):\n",
    "    reverseString = str[4::-1]\n",
    "    return reverseString"
   ]
  },
  {
   "cell_type": "code",
   "execution_count": 37,
   "metadata": {},
   "outputs": [
    {
     "name": "stdout",
     "output_type": "stream",
     "text": [
      "olleH\n"
     ]
    }
   ],
   "source": [
    "print(reverseString(\"Hello\"))"
   ]
  },
  {
   "cell_type": "markdown",
   "metadata": {},
   "source": [
    "# 3\n",
    "### 2 points\n",
    "\n",
    "Write a function that takes a positive integer as input and **returns** the sum of all positive integers smaller than and including the number itself.\n",
    "\n",
    "e.g. backAddition(5) -> 1 + 2 + 3 + 4 + 5 -> 15"
   ]
  },
  {
   "cell_type": "code",
   "execution_count": 3,
   "metadata": {},
   "outputs": [],
   "source": [
    "def backAddition(x):\n",
    "    i = 0\n",
    "    backAdd_list = []\n",
    "    while i <= x:\n",
    "        backAdd_list.append(i)\n",
    "        i+=1\n",
    "    backAddition = sum(backAdd_list)\n",
    "    return backAddition"
   ]
  },
  {
   "cell_type": "code",
   "execution_count": 7,
   "metadata": {},
   "outputs": [
    {
     "name": "stdout",
     "output_type": "stream",
     "text": [
      "15\n"
     ]
    }
   ],
   "source": [
    "print(backAddition(5))"
   ]
  },
  {
   "cell_type": "markdown",
   "metadata": {},
   "source": [
    "# 4\n",
    "### 5 points (all or nothing)\n",
    "\n",
    "The sum of the squares of the first ten natural numbers is,\n",
    "12 + 22 + ... + 102 = 385\n",
    "\n",
    "The square of the sum of the first ten natural numbers is,\n",
    "(1 + 2 + ... + 10)2 = 552 = 3025\n",
    "\n",
    "Hence the difference between the sum of the squares of the first ten natural numbers and the square of the sum is 3025 − 385 = 2640.\n",
    "\n",
    "Find the difference between the sum of the squares of the first one hundred natural numbers and the square of the sum.\n",
    "\n",
    "Show code that generates the answer."
   ]
  },
  {
   "cell_type": "code",
   "execution_count": 2,
   "metadata": {},
   "outputs": [
    {
     "name": "stdout",
     "output_type": "stream",
     "text": [
      "25164150\n"
     ]
    }
   ],
   "source": [
    "first_hundred_nos = []\n",
    "\n",
    "for i in range(101):\n",
    "    first_hundred_nos.append(i)\n",
    "    \n",
    "sq_of_nos_list = []\n",
    "    \n",
    "for x in first_ten_nos:\n",
    "    sq_of_no = x**2\n",
    "    sq_of_nos_list.append(sq_of_no)\n",
    "    \n",
    "sq_of_nos_sum = sum(sq_of_nos_list)\n",
    "\n",
    "\n",
    "def sq_of_sum (first_hundred_nos):\n",
    "    sum_of_hundred_nos = sum(first_hundred_nos)\n",
    "    sq_of_sum = (sum_of_hundred_nos)**2\n",
    "    return sq_of_sum\n",
    "\n",
    "print(sq_of_sum(first_hundred_nos)-sq_of_nos_sum)"
   ]
  },
  {
   "cell_type": "markdown",
   "metadata": {},
   "source": [
    "# 5\n",
    "### 5 points \n",
    "\n",
    "Write a function that allows a self-service Point of Sale system to give you the exact change when you pay in cash.\n",
    "\n",
    "The function should accept the number of cents entered by the caller of the function. It then should **display** the denominations of the coins that should be given to the buyer. The change should use as few coins as possible. Assume that the Point of Sale system is loaded with 1 cent, 5 cents, 10 cents, 25 cents and 1 peso coins.\n",
    "\n",
    "Write main program code that accepts the number of cents manually through user input and calls the function written above.\n",
    "\n",
    "**Input:** The program accepts one positive integer, ***cents***, corresponding to the total change to be given by the Point of Sale system.\n",
    "\n",
    "**Output:** The number of 1 peso, 25 cents, 10 cents, 5 cents and 1 cent coins respectively. There should be one output per line.\n",
    "\n",
    "**Sample Input 1:**  \n",
    "105\n",
    "\n",
    "**Sample Output 1**  \n",
    "1  \n",
    "0  \n",
    "0  \n",
    "1  \n",
    "0  \n",
    "\n",
    "**Sample Input 2:**  \n",
    "69  \n",
    "\n",
    "**Sample Output 2:**  \n",
    "0  \n",
    "2  \n",
    "1  \n",
    "1  \n",
    "4  \n",
    "\n",
    "\n"
   ]
  },
  {
   "cell_type": "code",
   "execution_count": 32,
   "metadata": {},
   "outputs": [
    {
     "name": "stdout",
     "output_type": "stream",
     "text": [
      "105\n",
      "1\n",
      "4\n",
      "10\n",
      "18\n",
      "72\n",
      "None\n"
     ]
    }
   ],
   "source": [
    "cents = int(input())\n",
    "\n",
    "def point_of_sale (cents):\n",
    "    if cents > 100:\n",
    "        one_peso = cents//100\n",
    "        print(one_peso)\n",
    "        cents = cents - one_peso\n",
    "        if cents > 25:\n",
    "            twenty_five_cents = cents//25\n",
    "            print(twenty_five_cents)\n",
    "            cents = cents - twenty_five_cents\n",
    "        \n",
    "            ten_cents = cents//10\n",
    "            print(ten_cents)\n",
    "            cents = cents - ten_cents\n",
    "        \n",
    "            five_cents = cents//5\n",
    "            print(five_cents)\n",
    "            cents = cents - five_cents\n",
    "            print(cents)\n",
    "            \n",
    "        elif cents > 10:\n",
    "            print(0)\n",
    "            ten_cents = cents//10\n",
    "            print(ten_cents)\n",
    "            cents = cents - ten_cents\n",
    "        \n",
    "            five_cents = cents//5\n",
    "            print(five_cents)\n",
    "            cents = cents - five_cents\n",
    "            print(cents)\n",
    "            \n",
    "        elif cents > 5:\n",
    "            print(0)\n",
    "            print(0)\n",
    "            five_cents = cents//5\n",
    "            print(five_cents)\n",
    "            cents = cents - five_cents\n",
    "            print(cents)\n",
    "        \n",
    "        else:\n",
    "            print(0)\n",
    "            print(0)\n",
    "            print(0)\n",
    "            print(cents)\n",
    "            \n",
    "################################## \n",
    "\n",
    "    elif cents > 25:\n",
    "        print(0)\n",
    "        twenty_five_cents = cents//25\n",
    "        print(twenty_five_cents)\n",
    "        cents = cents - twenty_five_cents\n",
    "        if cents > 10:\n",
    "            ten_cents = cents//10\n",
    "            print(ten_cents)\n",
    "            cents = cents - ten_cents\n",
    "        \n",
    "            five_cents = cents//5\n",
    "            print(five_cents)\n",
    "            cents = cents - five_cents\n",
    "            print(cents)\n",
    "            \n",
    "        elif cents > 5:\n",
    "            print(0)\n",
    "            five_cents = cents//5\n",
    "            print(five_cents)\n",
    "            cents = cents - five_cents\n",
    "            print(cents)\n",
    "        else:\n",
    "            print(0)\n",
    "            print(0)\n",
    "            print(cents)\n",
    "\n",
    "################################## \n",
    "\n",
    "    elif cents > 10:\n",
    "        print(0)\n",
    "        print(0)\n",
    "        ten_cents = cents//10\n",
    "        print(ten_cents)\n",
    "        cents = cents - ten_cents\n",
    "        if cents > 5:\n",
    "            five_cents = cents//5\n",
    "            print(five_cents)\n",
    "            cents = cents - five_cents\n",
    "            print(cents)\n",
    "        else:\n",
    "            print(0)\n",
    "            print(cents)\n",
    "            \n",
    "################################## \n",
    "\n",
    "    elif cents > 5:\n",
    "        print(0)\n",
    "        print(0)\n",
    "        print(0)\n",
    "        five_cents = cents//5\n",
    "        print(five_cents)\n",
    "        cents = cents - five_cents\n",
    "        print(cents)\n",
    "        \n",
    "################################## \n",
    "\n",
    "    else:\n",
    "        print(0)\n",
    "        print(0)\n",
    "        print(0)\n",
    "        print(0)\n",
    "        print(cents)\n",
    "\n",
    "print(point_of_sale(cents))"
   ]
  }
 ],
 "metadata": {
  "kernelspec": {
   "display_name": "Python 3",
   "language": "python",
   "name": "python3"
  },
  "language_info": {
   "codemirror_mode": {
    "name": "ipython",
    "version": 3
   },
   "file_extension": ".py",
   "mimetype": "text/x-python",
   "name": "python",
   "nbconvert_exporter": "python",
   "pygments_lexer": "ipython3",
   "version": "3.7.6"
  }
 },
 "nbformat": 4,
 "nbformat_minor": 2
}
