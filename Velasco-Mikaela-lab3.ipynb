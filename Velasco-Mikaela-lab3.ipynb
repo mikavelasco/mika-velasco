{
 "cells": [
  {
   "cell_type": "markdown",
   "metadata": {},
   "source": [
    "195206  \n",
    "Velasco  \n",
    "2 BS ME"
   ]
  },
  {
   "cell_type": "markdown",
   "metadata": {},
   "source": [
    "# Problem 1"
   ]
  },
  {
   "cell_type": "code",
   "execution_count": 1,
   "metadata": {},
   "outputs": [],
   "source": [
    "# define dictionary\n",
    "\n",
    "social_graph = {\n",
    "    \"@bongolpoc\":{\"first_name\":\"Joselito\",\n",
    "                  \"last_name\":\"Olpoc\",\n",
    "                  \"following\":[\n",
    "                  ]\n",
    "    },\n",
    "    \"@joaquin\":  {\"first_name\":\"Joaquin\",\n",
    "                  \"last_name\":\"Gonzales\",\n",
    "                  \"following\":[\n",
    "                      \"@chums\",\"@jobenilagan\"\n",
    "                  ]\n",
    "    },\n",
    "    \"@chums\" : {\"first_name\":\"Matthew\",\n",
    "                \"last_name\":\"Uy\",\n",
    "                \"following\":[\n",
    "                    \"@bongolpoc\",\"@miketan\",\"@rudyang\",\"@joeilagan\"\n",
    "                ]\n",
    "    },\n",
    "    \"@jobenilagan\":{\"first_name\":\"Joben\",\n",
    "                   \"last_name\":\"Ilagan\",\n",
    "                   \"following\":[\n",
    "                    \"@eeebeee\",\"@joeilagan\",\"@chums\",\"@joaquin\"\n",
    "                   ]\n",
    "    },\n",
    "    \"@joeilagan\":{\"first_name\":\"Joe\",\n",
    "                  \"last_name\":\"Ilagan\",\n",
    "                  \"following\":[\n",
    "                    \"@eeebeee\",\"@jobenilagan\",\"@chums\"\n",
    "                  ]\n",
    "    },\n",
    "    \"@eeebeee\":  {\"first_name\":\"Elizabeth\",\n",
    "                  \"last_name\":\"Ilagan\",\n",
    "                  \"following\":[\n",
    "                    \"@jobenilagan\",\"@joeilagan\"\n",
    "                  ]\n",
    "    },\n",
    "}\n"
   ]
  },
  {
   "cell_type": "code",
   "execution_count": 2,
   "metadata": {},
   "outputs": [],
   "source": [
    "def relationship_status(from_member,to_member):\n",
    "    if from_member in social_graph[to_member][\"following\"] and to_member in social_graph[from_member][\"following\"]:\n",
    "        return print(\"friends\")\n",
    "    elif from_member in social_graph[to_member][\"following\"]:\n",
    "        return print(\"followed by\")\n",
    "    elif to_member in social_graph[from_member][\"following\"]:\n",
    "        return print(\"follower\")\n",
    "    else:\n",
    "        return None"
   ]
  },
  {
   "cell_type": "code",
   "execution_count": 3,
   "metadata": {},
   "outputs": [
    {
     "name": "stdout",
     "output_type": "stream",
     "text": [
      "followed by\n",
      "friends\n",
      "followed by\n",
      "followed by\n",
      "friends\n",
      "friends\n"
     ]
    }
   ],
   "source": [
    "relationship_status(\"@chums\",\"@jobenilagan\")\n",
    "\n",
    "relationship_status(\"@jobenilagan\",\"@joeilagan\")\n",
    "\n",
    "relationship_status(\"@bongolpoc\",\"@chums\")\n",
    "\n",
    "relationship_status(\"@bongolpoc\",\"@jobenilagan\")\n",
    "\n",
    "relationship_status(\"@bongolpoc\",\"@chums\")\n",
    "\n",
    "relationship_status(\"@chums\",\"@joeilagan\")\n",
    "\n",
    "relationship_status(\"@joeilagan\",\"@chums\")"
   ]
  },
  {
   "cell_type": "markdown",
   "metadata": {},
   "source": [
    "# Problem 2"
   ]
  },
  {
   "cell_type": "code",
   "execution_count": 3,
   "metadata": {},
   "outputs": [],
   "source": [
    "board1 = [\n",
    "['X','X','O'],\n",
    "['O','X','O'],\n",
    "['O','','X'],\n",
    "]\n",
    "\n",
    "board2 = [\n",
    "['X','X','O'],\n",
    "['O','X','O'],\n",
    "['','O','X'],\n",
    "]\n",
    "\n",
    "board3 = [\n",
    "['O','X','O'],\n",
    "['','O','X'],\n",
    "['X','X','O'],\n",
    "]\n",
    "\n",
    "board4 = [\n",
    "['X','X','X'],\n",
    "['O','X','O'],\n",
    "['O','','O'],\n",
    "]\n",
    "\n",
    "board5 = [\n",
    "['X','X','O'],\n",
    "['O','X','O'],\n",
    "['X','','O'],\n",
    "]\n",
    "\n",
    "board6 = [\n",
    "['X','X','O'],\n",
    "['O','X','O'],\n",
    "['X','',''],\n",
    "]\n"
   ]
  },
  {
   "cell_type": "code",
   "execution_count": 39,
   "metadata": {},
   "outputs": [],
   "source": [
    "def get_winner(board):\n",
    "    \n",
    "    winner = None\n",
    "        \n",
    "    board_diag1_set = {board[i][i]for i in range(3)}\n",
    "    board_diag2_set = {board[3-1-i][i] for i in range(3)}\n",
    "    board_rows = [\n",
    "                    {board[0][0],board[0][1],board[0][2]},\n",
    "                    {board[1][0],board[1][1],board[1][2]},\n",
    "                    {board[2][0],board[2][1],board[2][2]},\n",
    "    ]\n",
    "    \n",
    "    board_columns = [\n",
    "                    {board[0][0],board[1][0],board[2][0]},\n",
    "                    {board[0][1],board[1][1],board[2][1]},\n",
    "                    {board[0][2],board[1][2],board[2][2]},\n",
    "    ]\n",
    "        \n",
    "    if len(board_diag1_set) == 1:\n",
    "        print(board_diag1_set)\n",
    "    else:\n",
    "        if len(board_diag2_set) == 1:\n",
    "            print(board_diag2_set)\n",
    "        else:\n",
    "            if len(board_rows[0]) == 1:\n",
    "                    print(board_rows[0])\n",
    "            elif len(board_rows[1]) == 1:\n",
    "                    print(board_rows[1])\n",
    "            elif len(board_rows[2]) == 1:\n",
    "                    print(board_rows[2])\n",
    "            else:\n",
    "                if len(board_columns[0]) == 1:\n",
    "                        print(board_columns[0])\n",
    "                elif len(board_columns[1]) == 1:\n",
    "                        print(board_columns[1])\n",
    "                elif len(board_columns[2]) == 1:\n",
    "                        print(board_columns[2])\n",
    "                else:\n",
    "                    return winner"
   ]
  },
  {
   "cell_type": "code",
   "execution_count": 41,
   "metadata": {},
   "outputs": [
    {
     "name": "stdout",
     "output_type": "stream",
     "text": [
      "{'X'}\n"
     ]
    }
   ],
   "source": [
    "get_winner(board1)"
   ]
  },
  {
   "cell_type": "code",
   "execution_count": 42,
   "metadata": {},
   "outputs": [],
   "source": [
    "get_winner(board6)"
   ]
  },
  {
   "cell_type": "code",
   "execution_count": 43,
   "metadata": {},
   "outputs": [
    {
     "name": "stdout",
     "output_type": "stream",
     "text": [
      "{'O'}\n"
     ]
    }
   ],
   "source": [
    "get_winner(board3)"
   ]
  },
  {
   "cell_type": "code",
   "execution_count": 51,
   "metadata": {},
   "outputs": [
    {
     "name": "stdout",
     "output_type": "stream",
     "text": [
      "Enter source: admu\n",
      "Enter destination: upd\n",
      "ETA: 90\n"
     ]
    }
   ],
   "source": [
    "locations = {\n",
    "    \"admu\":{\n",
    "        \"name\":\"Ateneo de Manila University\",\n",
    "        \"latitude\":14.6394557,\n",
    "        \"longitude\":121.0758975        \n",
    "    },\n",
    "    \"upd\":{\n",
    "        \"name\":\"University of the Philippines-Diliman Campus\",\n",
    "        \"latitude\":14.6538519,\n",
    "        \"longitude\":121.0663348\n",
    "    },\n",
    "    \"dlsu\":{\n",
    "        \"name\":\"De La Salle University-Taft\",\n",
    "        \"latitude\":14.5647346,\n",
    "        \"longitude\":120.9909876\n",
    "\n",
    "    }, # <-- Note that Python does not complain about this extra comma. This is perfectly okay.\n",
    "       #     The creators of Python saw that dictionaries tend to be changed a lot, so allowing this is a\n",
    "       #     convenience for developers who need to add elements when needed.\n",
    "}\n",
    "\n",
    "legs = {\n",
    "     (\"upd\",\"admu\"):{\n",
    "         \"travel_time_mins\":10\n",
    "     },\n",
    "     (\"admu\",\"dlsu\"):{\n",
    "         \"travel_time_mins\":35\n",
    "     },\n",
    "     (\"dlsu\",\"upd\"):{\n",
    "         \"travel_time_mins\":55\n",
    "     }\n",
    "}\n",
    "\n",
    "def eta(source, destination):\n",
    "    if (source, destination) in legs:\n",
    "        return legs[(source,destination)][\"travel_time_mins\"]\n",
    "    elif( source == \"admu\" , destination== \"upd\" ):\n",
    "        admu_to_upd = legs[(\"admu\",\"dlsu\")][\"travel_time_mins\"] + legs[(\"dlsu\",\"upd\")][\"travel_time_mins\"]\n",
    "        return admu_to_upd\n",
    "    elif ( source == \"dlsu\" , destination== \"admu\" ):\n",
    "        dlsu_to_admu = legs[(\"dlsu\",\"upd\")][\"travel_time_mins\"] + legs[(\"upd\",\"admu\")][\"travel_time_mins\"]\n",
    "        return dlsu_to_admu\n",
    "    else:\n",
    "        upd_to_dlsu = legs[(\"upd\",\"admu\")][\"travel_time_mins\"] + legs[(\"admu\",\"dlsu\")][\"travel_time_mins\"]\n",
    "        return upd_to_dlsu\n",
    "    \n",
    "# elif statements wont work :<  \n",
    "    \n",
    "source = input(\"Enter source: \")\n",
    "destination = input(\"Enter destination: \")\n",
    "\n",
    "final_eta = eta(source, destination)\n",
    "\n",
    "print(\"ETA:\",final_eta)"
   ]
  },
  {
   "cell_type": "code",
   "execution_count": 53,
   "metadata": {},
   "outputs": [
    {
     "name": "stdout",
     "output_type": "stream",
     "text": [
      "Enter source: dlsu\n",
      "Enter destination: admu\n",
      "ETA: 65\n"
     ]
    }
   ],
   "source": [
    "locations = {\n",
    "    \"admu\":{\n",
    "        \"name\":\"Ateneo de Manila University\",\n",
    "        \"latitude\":14.6394557,\n",
    "        \"longitude\":121.0758975        \n",
    "    },\n",
    "    \"upd\":{\n",
    "        \"name\":\"University of the Philippines-Diliman Campus\",\n",
    "        \"latitude\":14.6538519,\n",
    "        \"longitude\":121.0663348\n",
    "    },\n",
    "    \"dlsu\":{\n",
    "        \"name\":\"De La Salle University-Taft\",\n",
    "        \"latitude\":14.5647346,\n",
    "        \"longitude\":120.9909876\n",
    "\n",
    "    }, # <-- Note that Python does not complain about this extra comma. This is perfectly okay.\n",
    "       #     The creators of Python saw that dictionaries tend to be changed a lot, so allowing this is a\n",
    "       #     convenience for developers who need to add elements when needed.\n",
    "}\n",
    "\n",
    "legs = {\n",
    "     (\"upd\",\"admu\"):{\n",
    "         \"travel_time_mins\":10\n",
    "     },\n",
    "     (\"admu\",\"dlsu\"):{\n",
    "         \"travel_time_mins\":35\n",
    "     },\n",
    "     (\"dlsu\",\"upd\"):{\n",
    "         \"travel_time_mins\":55\n",
    "     }\n",
    "}\n",
    "\n",
    "def eta(source, destination):\n",
    "    if (source, destination) in legs:\n",
    "        return legs[(source,destination)][\"travel_time_mins\"]\n",
    "    elif ( source == \"dlsu\" , destination== \"admu\" ):\n",
    "        dlsu_to_admu = legs[(\"dlsu\",\"upd\")][\"travel_time_mins\"] + legs[(\"upd\",\"admu\")][\"travel_time_mins\"]\n",
    "        return dlsu_to_admu\n",
    "    elif( source == \"admu\" , destination== \"upd\" ):\n",
    "        admu_to_upd = legs[(\"admu\",\"dlsu\")][\"travel_time_mins\"] + legs[(\"dlsu\",\"upd\")][\"travel_time_mins\"]\n",
    "        return admu_to_upd\n",
    "    else:\n",
    "        upd_to_dlsu = legs[(\"upd\",\"admu\")][\"travel_time_mins\"] + legs[(\"admu\",\"dlsu\")][\"travel_time_mins\"]\n",
    "        return upd_to_dlsu\n",
    "    \n",
    "# elif statements wont work :<\n",
    "\n",
    "source = input(\"Enter source: \")\n",
    "destination = input(\"Enter destination: \")\n",
    "\n",
    "final_eta = eta(source, destination)\n",
    "\n",
    "print(\"ETA:\",final_eta)"
   ]
  }
 ],
 "metadata": {
  "kernelspec": {
   "display_name": "Python 3",
   "language": "python",
   "name": "python3"
  },
  "language_info": {
   "codemirror_mode": {
    "name": "ipython",
    "version": 3
   },
   "file_extension": ".py",
   "mimetype": "text/x-python",
   "name": "python",
   "nbconvert_exporter": "python",
   "pygments_lexer": "ipython3",
   "version": "3.7.6"
  }
 },
 "nbformat": 4,
 "nbformat_minor": 4
}
